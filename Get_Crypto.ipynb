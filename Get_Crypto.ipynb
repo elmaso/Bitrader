{
 "cells": [
  {
   "cell_type": "markdown",
   "metadata": {},
   "source": [
    "# Get Crypto main focus is to convert Ordes from an API to DataBase in time giving Volum, Hi, Low and Prices as well as other Important values like  Cripto, exchanges and so on\n",
    "\n",
    "## This will be the Main Data Input for the hold App"
   ]
  },
  {
   "cell_type": "code",
   "execution_count": 1,
   "metadata": {
    "collapsed": true
   },
   "outputs": [],
   "source": [
    "# Import dependencys\n",
    "import os\n",
    "import requests\n",
    "import json\n",
    "import pandas as pd\n",
    "import numpy as np"
   ]
  },
  {
   "cell_type": "code",
   "execution_count": 2,
   "metadata": {
    "collapsed": true
   },
   "outputs": [],
   "source": [
    "#Preperd Credentials Url's for API\n",
    "def fetch_credentials(service_name, creds_file=\"api.json\"):\n",
    "    \"\"\"Fetch credentials for api services from file.\n",
    "    \n",
    "    Params\n",
    "    ======\n",
    "    - service_name: a User service name, e.g. \"maso\" or \"user2\"\n",
    "    - creds_file: file containing credentials in JSON format\n",
    "    \n",
    "    Returns\n",
    "    =======\n",
    "    Ordenes, Ventas: dictionary containing the api Url's\n",
    "    \"\"\"\n",
    "    \n",
    "    with open(creds_file, \"r\") as f:\n",
    "        creds = json.load(f)\n",
    "        _url = creds[service_name][\"url\"]\n",
    "        _books = _url+creds[service_name][\"book\"]\n",
    "        _ordenes = _url+creds[service_name][\"ordenes\"]\n",
    "        _full = _url+creds[service_name]['ordenesFull']\n",
    "        _venta = _url+creds[service_name]['ventas']\n",
    "        return (_books, _ordenes, _full, _venta)\n",
    "    \n",
    "book, ordenes, ordenes_full, ventas = fetch_credentials(\"ticker\")"
   ]
  },
  {
   "cell_type": "code",
   "execution_count": 3,
   "metadata": {},
   "outputs": [
    {
     "data": {
      "text/plain": [
       "('https://api-dev.bitso.com/v3/available_books/',\n",
       " 'https://api-dev.bitso.com/v3/order_book/?&book=',\n",
       " 'https://api-dev.bitso.com/v3/order_book/?aggregate=0&book=',\n",
       " 'https://api-dev.bitso.com/v3/trades/?book=')"
      ]
     },
     "execution_count": 3,
     "metadata": {},
     "output_type": "execute_result"
    }
   ],
   "source": [
    "fetch_credentials(\"ticker\")\n",
    "\n"
   ]
  },
  {
   "cell_type": "code",
   "execution_count": 4,
   "metadata": {},
   "outputs": [
    {
     "data": {
      "text/plain": [
       "0    btc_mxn\n",
       "1    eth_mxn\n",
       "2    eth_btc\n",
       "3    xrp_btc\n",
       "4    xrp_mxn\n",
       "5    bch_btc\n",
       "Name: book, dtype: object"
      ]
     },
     "execution_count": 4,
     "metadata": {},
     "output_type": "execute_result"
    }
   ],
   "source": [
    "def get_books(_url):\n",
    "    \"\"\"Fetch book to trade\n",
    "    \n",
    "    Params\n",
    "    ======\n",
    "    -URL ticker\n",
    "    \n",
    "    Returns\n",
    "    =======\n",
    "    Books Data Frame \n",
    "    \n",
    "    \"\"\"\n",
    "    try:\n",
    "        r = requests.get(_url) \n",
    "        r = r.json()\n",
    "        if r[\"success\"]:\n",
    "            r = pd.DataFrame(r[\"payload\"])\n",
    "            b = r[\"book\"]\n",
    "            return(b)\n",
    "        else:\n",
    "            return r[\"error\"][\"message\"]\n",
    "    except:\n",
    "        return \"error 404\"\n",
    "    \n",
    "    \n",
    "books = get_books(book)\n",
    "books"
   ]
  },
  {
   "cell_type": "code",
   "execution_count": 6,
   "metadata": {},
   "outputs": [],
   "source": [
    "def get_orders_volume(_url):\n",
    "    \"\"\"Fetch orders books and returns \n",
    "    \n",
    "    \"\"\"\n",
    "    \n",
    "    return 1"
   ]
  },
  {
   "cell_type": "code",
   "execution_count": null,
   "metadata": {
    "collapsed": true
   },
   "outputs": [],
   "source": []
  }
 ],
 "metadata": {
  "kernelspec": {
   "display_name": "Python 3",
   "language": "python",
   "name": "python3"
  },
  "language_info": {
   "codemirror_mode": {
    "name": "ipython",
    "version": 3
   },
   "file_extension": ".py",
   "mimetype": "text/x-python",
   "name": "python",
   "nbconvert_exporter": "python",
   "pygments_lexer": "ipython3",
   "version": "3.6.1"
  }
 },
 "nbformat": 4,
 "nbformat_minor": 2
}
